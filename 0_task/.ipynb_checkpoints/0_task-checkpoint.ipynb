{
 "cells": [
  {
   "cell_type": "code",
   "execution_count": 1,
   "id": "ac995cb0-3cdc-4afc-b6dd-59dbcd916d37",
   "metadata": {},
   "outputs": [
    {
     "name": "stdout",
     "output_type": "stream",
     "text": [
      "Python 3.11.6\n"
     ]
    }
   ],
   "source": [
    "!python --version"
   ]
  },
  {
   "cell_type": "code",
   "execution_count": 5,
   "id": "969f2fdd-ba2f-47ea-9f81-40d58d2ec7df",
   "metadata": {},
   "outputs": [
    {
     "name": "stdout",
     "output_type": "stream",
     "text": [
      "pip 23.3.1 from /home/lump3n/protei_projects/ds_cv/ds-env/lib/python3.11/site-packages/pip (python 3.11)\n"
     ]
    }
   ],
   "source": [
    "!pip --version "
   ]
  },
  {
   "cell_type": "code",
   "execution_count": null,
   "id": "0df94b00-f019-44a9-b594-b71aad893fa6",
   "metadata": {
    "scrolled": true
   },
   "outputs": [],
   "source": [
    "!pip install numpy scipy scikit-learn matplotlib"
   ]
  },
  {
   "cell_type": "markdown",
   "id": "ef0f63d9-2d52-4515-95f6-8b31a3c41d88",
   "metadata": {},
   "source": [
    "                    \n",
    "\n",
    "Слегка откорректировал код задания, потому что модуль pyplot не имеет аттрибута 'version' \n",
    "========================================================================================"
   ]
  },
  {
   "cell_type": "code",
   "execution_count": 7,
   "id": "1e6d072f-f204-4f32-8b21-eefd8845b9dc",
   "metadata": {},
   "outputs": [
    {
     "name": "stdout",
     "output_type": "stream",
     "text": [
      "numpy version: 1.26.2\n",
      "scipy version: 1.11.4\n",
      "sklearn version: 1.3.2\n",
      "matplotlib version: 3.8.2\n"
     ]
    }
   ],
   "source": [
    "import numpy as np\n",
    "import scipy\n",
    "import sklearn\n",
    "import matplotlib \n",
    "print(f'numpy version: {np.__version__}')\n",
    "print(f'scipy version: {scipy.__version__}')\n",
    "print(f'sklearn version: {sklearn.__version__}')\n",
    "print(f'matplotlib version: {matplotlib.__version__}')"
   ]
  },
  {
   "cell_type": "code",
   "execution_count": 8,
   "id": "10a3950c-a367-4f66-bb90-ac9ae6b9ba6f",
   "metadata": {},
   "outputs": [
    {
     "ename": "AttributeError",
     "evalue": "module 'matplotlib.pyplot' has no attribute '__version__'",
     "output_type": "error",
     "traceback": [
      "\u001b[0;31m---------------------------------------------------------------------------\u001b[0m",
      "\u001b[0;31mAttributeError\u001b[0m                            Traceback (most recent call last)",
      "Cell \u001b[0;32mIn[8], line 2\u001b[0m\n\u001b[1;32m      1\u001b[0m \u001b[38;5;28;01mimport\u001b[39;00m \u001b[38;5;21;01mmatplotlib\u001b[39;00m\u001b[38;5;21;01m.\u001b[39;00m\u001b[38;5;21;01mpyplot\u001b[39;00m \u001b[38;5;28;01mas\u001b[39;00m \u001b[38;5;21;01mplt\u001b[39;00m\n\u001b[0;32m----> 2\u001b[0m \u001b[38;5;28mprint\u001b[39m(\u001b[43mplt\u001b[49m\u001b[38;5;241;43m.\u001b[39;49m\u001b[43m__version__\u001b[49m)\n",
      "\u001b[0;31mAttributeError\u001b[0m: module 'matplotlib.pyplot' has no attribute '__version__'"
     ]
    }
   ],
   "source": [
    "import matplotlib.pyplot as plt\n",
    "print(plt.__version__)"
   ]
  }
 ],
 "metadata": {
  "kernelspec": {
   "display_name": "Python 3 (ipykernel)",
   "language": "python",
   "name": "python3"
  },
  "language_info": {
   "codemirror_mode": {
    "name": "ipython",
    "version": 3
   },
   "file_extension": ".py",
   "mimetype": "text/x-python",
   "name": "python",
   "nbconvert_exporter": "python",
   "pygments_lexer": "ipython3",
   "version": "3.11.6"
  }
 },
 "nbformat": 4,
 "nbformat_minor": 5
}
